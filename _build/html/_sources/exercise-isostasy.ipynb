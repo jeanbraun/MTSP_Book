{
 "cells": [
  {
   "cell_type": "markdown",
   "metadata": {},
   "source": [
    "# A simple exercise on isostasy\n",
    "\n",
    "A simple exercise to compute the height difference between a reference continental interior and a mountain.\n",
    "\n"
   ]
  },
  {
   "cell_type": "markdown",
   "metadata": {},
   "source": [
    "## Question\n",
    "\n",
    "> What is the elevation, $e$, of a mountain resulting from thickening of a “normal”, $h$ = 35 km thick crust and $L$ = 125 km thick lithosphere, column by a factor $\\beta$? Assume crustal, mantle and asthenospheric densities of $\\rho_c$ = 2800, $\\rho_m$ = 3200 and $\\rho_a$ = 3150 kg/m$^3$, respectively."
   ]
  },
  {
   "cell_type": "code",
   "execution_count": 1,
   "metadata": {},
   "outputs": [],
   "source": [
    "import numpy as np\n",
    "import matplotlib.pyplot as plt"
   ]
  },
  {
   "cell_type": "code",
   "execution_count": null,
   "metadata": {},
   "outputs": [
    {
     "ename": "",
     "evalue": "",
     "output_type": "error",
     "traceback": [
      "\u001b[1;31mnotebook controller is DISPOSED. \n",
      "\u001b[1;31mView Jupyter <a href='command:jupyter.viewOutput'>log</a> for further details."
     ]
    }
   ],
   "source": [
    "rhoc = 2800\n",
    "rhom = 3200\n",
    "rhoa = 3150\n",
    "L = 125\n",
    "h = 35\n"
   ]
  },
  {
   "cell_type": "markdown",
   "metadata": {},
   "source": [
    "## Solution\n",
    "\n",
    "```{figure} images/isostasy-sketch.png\n",
    "---\n",
    "height: 250px\n",
    "name: isostasy sketch\n",
    "---\n",
    "Two lithospheric columns: a reference column with crustal thickness $h$ and lithospheric thickness $L$ of respective density $\\rho_c$ and $\\rho_m$ and a second column beneath a mountain belt with a crust and lithosphere thickened by a factor $\\beta$.\n",
    "```\n",
    "\n",
    "Equating the weights of the two columns leads to:\n",
    "```{math}\n",
    "\\rho_chg + \\rho_m(L-h)g +\\rho_a(\\beta L-e-L)g = \\rho_c\\beta hg+\\rho_m\\beta(L-h)g\n",
    "```\n",
    "which leads to the following expression for the elevation, $e$ of the mountain:\n",
    "```{math}\n",
    "e = (\\beta-1)\\frac{(\\rho_m-\\rho_c)h-(\\rho_m-\\rho_a)L}{\\rho_a} = (\\beta-1)\\times 2.46\n",
    "```"
   ]
  },
  {
   "cell_type": "code",
   "execution_count": null,
   "metadata": {},
   "outputs": [
    {
     "ename": "",
     "evalue": "",
     "output_type": "error",
     "traceback": [
      "\u001b[1;31mnotebook controller is DISPOSED. \n",
      "\u001b[1;31mView Jupyter <a href='command:jupyter.viewOutput'>log</a> for further details."
     ]
    }
   ],
   "source": [
    "beta = np.linspace(1,4,101)\n",
    "e = (beta-1)*((rhom-rhoc)*h - (rhom-rhoa)*L)/rhoa    "
   ]
  },
  {
   "cell_type": "markdown",
   "metadata": {},
   "source": [
    "We can plot the value of the elevation, $e$, as a function of the thickening factor, $\\beta$."
   ]
  },
  {
   "cell_type": "code",
   "execution_count": null,
   "metadata": {},
   "outputs": [
    {
     "data": {
      "image/png": "[encoded data removed]",
      "text/plain": [
       "<Figure size 700x400 with 1 Axes>"
      ]
     },
     "metadata": {},
     "output_type": "display_data"
    },
    {
     "ename": "",
     "evalue": "",
     "output_type": "error",
     "traceback": [
      "\u001b[1;31mnotebook controller is DISPOSED. \n",
      "\u001b[1;31mView Jupyter <a href='command:jupyter.viewOutput'>log</a> for further details."
     ]
    }
   ],
   "source": [
    "fig, ax = plt.subplots(figsize=(7,4))\n",
    "ax.plot(beta,e)\n",
    "ax.set_xlabel(r'$\\beta$')\n",
    "ax.set_ylabel(r'$e$ (km)');"
   ]
  }
 ],
 "metadata": {
  "kernelspec": {
   "display_name": "numerics",
   "language": "python",
   "name": "python3"
  },
  "language_info": {
   "codemirror_mode": {
    "name": "ipython",
    "version": 3
   },
   "file_extension": ".py",
   "mimetype": "text/x-python",
   "name": "python",
   "nbconvert_exporter": "python",
   "pygments_lexer": "ipython3",
   "version": "3.8.20"
  }
 },
 "nbformat": 4,
 "nbformat_minor": 2
}
